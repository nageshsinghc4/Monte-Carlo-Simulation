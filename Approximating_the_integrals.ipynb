{
  "nbformat": 4,
  "nbformat_minor": 0,
  "metadata": {
    "colab": {
      "name": "Approximating the integrals.ipynb",
      "provenance": [],
      "collapsed_sections": []
    },
    "kernelspec": {
      "name": "python3",
      "display_name": "Python 3"
    },
    "language_info": {
      "name": "python"
    }
  },
  "cells": [
    {
      "cell_type": "markdown",
      "metadata": {
        "id": "3RNdFRFhnE1p"
      },
      "source": [
        "# Approximating the Integrals"
      ]
    },
    {
      "cell_type": "markdown",
      "metadata": {
        "id": "ZNso2s3am_0C"
      },
      "source": [
        "For known functions such as the Normal distribution function, calculating integral might be simple and would not require the usage of MC. However, for more complicated functions computing integrals might be very hard and in those situations using MC could be the only way to calculate this integral.\n",
        "\n",
        "\n",
        "MC for approximating integrals is based on the LLN and the idea behind it is that if we can generate random samples xi from a given distribution P(x), then we can estimate the expected value of a function under this distribution by summation, rather than integration. Stated differently, we can find the value of an integral by determining the average value of its integrand, h(x). "
      ]
    },
    {
      "cell_type": "code",
      "metadata": {
        "colab": {
          "base_uri": "https://localhost:8080/"
        },
        "id": "jeU3FCV3m95Y",
        "outputId": "c3199278-f886-4ba8-b8ae-536d1ff80162"
      },
      "source": [
        "import numpy as np\n",
        "from scipy.stats import norm\n",
        "\n",
        "def Integral_estimation(M,mu,sigma):\n",
        "    prob_larger_than3 = []\n",
        "\n",
        "    for i in range(M):\n",
        "        # Using CDF since P[Z>=3] = 1-P[Z<=3]\n",
        "        p = 1- norm.cdf(3, mu, sigma)\n",
        "        # Using Survival Function P[Z>=3]\n",
        "        p = norm.sf(3, mu, sigma)\n",
        "        prob_larger_than3.append(p)\n",
        "    MC_approximation_prob = np.array(prob_larger_than3).mean()\n",
        "    return(MC_approximation_prob)\n",
        "\n",
        "Integral_estimation(M = 10000, mu = 10, sigma = 2)"
      ],
      "execution_count": 3,
      "outputs": [
        {
          "output_type": "execute_result",
          "data": {
            "text/plain": [
              "0.9997673709209641"
            ]
          },
          "metadata": {},
          "execution_count": 3
        }
      ]
    },
    {
      "cell_type": "code",
      "metadata": {
        "id": "VLonojKfnUrP"
      },
      "source": [
        ""
      ],
      "execution_count": null,
      "outputs": []
    }
  ]
}