{
  "nbformat": 4,
  "nbformat_minor": 0,
  "metadata": {
    "colab": {
      "name": "CausalEffectB/WTwoVar.ipynb",
      "provenance": [],
      "collapsed_sections": []
    },
    "kernelspec": {
      "name": "python3",
      "display_name": "Python 3"
    },
    "language_info": {
      "name": "python"
    }
  },
  "cells": [
    {
      "cell_type": "markdown",
      "metadata": {
        "id": "3RNdFRFhnE1p"
      },
      "source": [
        "# Estimate a causal effect between two variables."
      ]
    },
    {
      "cell_type": "markdown",
      "metadata": {
        "id": "ZNso2s3am_0C"
      },
      "source": [
        "Let us take another example, say we want to estimate a causal effect between two variables, pair of independent and dependent variables and we have some idea about possible values of intercept alpha and slope parameter beta.\n",
        "\n",
        "\n",
        "What we can do is we can randomly sample from normal distribution to generate error terms, dependent and independent variable values. Then we can estimate the coefficient of beta, beta_hat, and repeat this process M = 10000 times. Then by the LLN, the sample mean of these 10000 beta_hats will be an unbiased estimate for the true beta."
      ]
    },
    {
      "cell_type": "code",
      "metadata": {
        "colab": {
          "base_uri": "https://localhost:8080/"
        },
        "id": "jeU3FCV3m95Y",
        "outputId": "0731b5c1-6f6b-4d10-9d49-5faae01a0232"
      },
      "source": [
        "import numpy as np\n",
        "import statsmodels.api as sm\n",
        "np.random.seed(2021)\n",
        "mu = 0 \n",
        "sigma = 1 \n",
        "n = 100 \n",
        "# assumed population parameters\n",
        "alpha = np.repeat(0.5, n)\n",
        "beta = 1.5\n",
        "\n",
        "def MC_estimation_slope(M):\n",
        "    MC_betas = []\n",
        "    MC_samples = {}\n",
        "\n",
        "    for i in range(M):\n",
        "        # randomly sampling from normal distribution as error terms\n",
        "        e = np.random.normal(mu, sigma, n)\n",
        "        # generating independent variable by making sure the variance in X is larger than the variance in error terms\n",
        "        X = 9 * np.random.normal(mu, sigma, n)\n",
        "        # population distribution using the assumd parameter values alpha/beta\n",
        "        Y = (alpha + beta * X + e)\n",
        "        \n",
        "        # running OLS regression for getting slope parameters\n",
        "        model = sm.OLS(Y.reshape((-1, 1)), X.reshape((-1, 1)))\n",
        "        ols_result = model.fit()\n",
        "        coeff = ols_result.params\n",
        "        \n",
        "        MC_samples[i] = Y\n",
        "        MC_betas.append(coeff)\n",
        "    MC_beta_hats = np.array(MC_betas).flatten()\n",
        "    return(MC_samples, MC_beta_hats)\n",
        "    \n",
        "MC_samples, MC_beta_hats = MC_estimation_slope(M = 10000)\n",
        "beta_hat_MC = np.mean(MC_beta_hats)"
      ],
      "execution_count": 1,
      "outputs": [
        {
          "output_type": "stream",
          "name": "stderr",
          "text": [
            "/usr/local/lib/python3.7/dist-packages/statsmodels/tools/_testing.py:19: FutureWarning: pandas.util.testing is deprecated. Use the functions in the public API at pandas.testing instead.\n",
            "  import pandas.util.testing as tm\n"
          ]
        }
      ]
    },
    {
      "cell_type": "code",
      "metadata": {
        "colab": {
          "base_uri": "https://localhost:8080/"
        },
        "id": "9oDbYAAAnNVO",
        "outputId": "d0995c1b-b75e-408c-85f5-cd4373b71c6b"
      },
      "source": [
        "beta_hat_MC"
      ],
      "execution_count": 2,
      "outputs": [
        {
          "output_type": "execute_result",
          "data": {
            "text/plain": [
              "1.5002180550943296"
            ]
          },
          "metadata": {},
          "execution_count": 2
        }
      ]
    },
    {
      "cell_type": "code",
      "metadata": {
        "id": "VLonojKfnUrP"
      },
      "source": [
        ""
      ],
      "execution_count": null,
      "outputs": []
    }
  ]
}