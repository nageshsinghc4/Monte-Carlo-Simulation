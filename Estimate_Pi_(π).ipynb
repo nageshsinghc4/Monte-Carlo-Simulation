{
  "nbformat": 4,
  "nbformat_minor": 0,
  "metadata": {
    "colab": {
      "name": "Estimate Pi (π).ipynb",
      "provenance": [],
      "collapsed_sections": []
    },
    "kernelspec": {
      "name": "python3",
      "display_name": "Python 3"
    },
    "language_info": {
      "name": "python"
    }
  },
  "cells": [
    {
      "cell_type": "markdown",
      "metadata": {
        "id": "ULd9ZDueluFX"
      },
      "source": [
        "### Estimate Pi (π)"
      ]
    },
    {
      "cell_type": "markdown",
      "metadata": {
        "id": "4R8Z29kOl9Gf"
      },
      "source": [
        "The most common example of Monte Carlo simulation is using it to estimate Pi (π). To do so, first consider a circle with diameter 1 which is inscribed in a square of size 1."
      ]
    },
    {
      "cell_type": "code",
      "metadata": {
        "colab": {
          "base_uri": "https://localhost:8080/"
        },
        "id": "eU-BoWAAl1I8",
        "outputId": "4a2c0d87-801e-431c-a770-8aa1c01a73a1"
      },
      "source": [
        "#First I begin by importing the modules we need\n",
        "import random\n",
        "from math import sqrt\n",
        "\n",
        "#Setting the seed\n",
        "random.seed(1991)    #Guess my birth.year\n",
        "\n",
        "#This function does all the calculations for us\n",
        "def PiEstimation(n):\n",
        "    #I define a variable to store the number of points inside the circle\n",
        "    circle = 0\n",
        "\n",
        "    #loop to calculate the points we need for our estimation\n",
        "    for i in range(1,n+1):\n",
        "        x = random.random()\n",
        "        y = random.random()\n",
        "        \n",
        "        #Checking to see if the produced number falls into the circle\n",
        "        if sqrt(x**2 + y**2) <= 1:\n",
        "            circle += 1\n",
        "\n",
        "    #I calculate Pi for this iteration\n",
        "    Pi = 4 * (circle/n)\n",
        "\n",
        "    #returning the result\n",
        "    return Pi\n",
        "\n",
        "#n\n",
        "n=[10,100,1000,10000,100000,10000000,100000000,200000000]\n",
        "\n",
        "#I define an empty dictionary to store the results of iterations to it\n",
        "Pi_storage ={}\n",
        "\n",
        "#Running a loop to estimate Pi with different number of random points\n",
        "for j in n:\n",
        "    Pi_storage[j]=PiEstimation(j)\n",
        "\n",
        "#Printing the results to the console\n",
        "for k in n:\n",
        "    print (\"The result of pi estimation after \" + str(k) + \" attempts is equal to: \" + str(Pi_storage[k]))"
      ],
      "execution_count": 2,
      "outputs": [
        {
          "output_type": "stream",
          "name": "stdout",
          "text": [
            "The result of pi estimation after 10 attempts is equal to: 2.4\n",
            "The result of pi estimation after 100 attempts is equal to: 3.12\n",
            "The result of pi estimation after 1000 attempts is equal to: 3.196\n",
            "The result of pi estimation after 10000 attempts is equal to: 3.1448\n",
            "The result of pi estimation after 100000 attempts is equal to: 3.14184\n",
            "The result of pi estimation after 10000000 attempts is equal to: 3.1414672\n",
            "The result of pi estimation after 100000000 attempts is equal to: 3.14155472\n",
            "The result of pi estimation after 200000000 attempts is equal to: 3.14174194\n"
          ]
        }
      ]
    },
    {
      "cell_type": "markdown",
      "metadata": {
        "id": "1MkRHROgmpNU"
      },
      "source": [
        "As it is evident from the results, the larger the number of our attempts (n) is, the closer we get to the value of Pi. However, even after 20 million attempts, just the first two digits of Pi have been estimated correctly. "
      ]
    },
    {
      "cell_type": "code",
      "metadata": {
        "id": "VL7niSZQl-Vy"
      },
      "source": [
        ""
      ],
      "execution_count": null,
      "outputs": []
    }
  ]
}